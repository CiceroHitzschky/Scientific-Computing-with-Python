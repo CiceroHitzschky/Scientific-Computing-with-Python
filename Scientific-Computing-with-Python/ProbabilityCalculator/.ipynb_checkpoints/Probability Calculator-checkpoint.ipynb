{
 "cells": [
  {
   "cell_type": "markdown",
   "id": "bbe7233a",
   "metadata": {},
   "source": [
    "# Calculadora de Probabilidade\n",
    "---\n",
    "\n",
    "Suponha que haja um chapéu contendo 5 bolas azuis, 4 bolas vermelhas e 2 bolas verdes. Qual é a probabilidade de que um sorteio aleatório de 4 bolas contenha pelo menos 1 bola vermelha e 2 bolas verdes? Embora seja possível calcular a probabilidade usando matemática avançada, uma maneira mais fácil é escrever um programa para realizar um grande número de experimentos para estimar uma probabilidade aproximada.\n",
    "\n",
    "Para este projeto, você escreverá um programa para determinar a probabilidade aproximada de retirar certas bolas aleatoriamente de um chapéu.\n",
    "\n",
    "Primeiro, crie uma classe `Hat`. A classe deve receber um número variável de argumentos que especificam o número de bolas de cada cor que estão no chapéu. Por exemplo, um objeto de classe pode ser criado de qualquer uma destas maneiras:\n",
    "\n",
    "~~~Python\n",
    "hat1 = Hat(yellow=3, blue=2, green=6)\n",
    "hat2 = Hat(red=5, orange=4)\n",
    "hat3 = Hat(red=5, orange=4, black=1, blue=0, pink=2, striped=9)\n",
    "~~~\n",
    "\n",
    "Um chapéu sempre será criado com pelo menos uma bola. Os argumentos passados para o objeto **hat** na criação devem ser convertidos em uma variável de instância chamada `contents`. `contents` deve ser uma lista de strings contendo um item para cada bola no chapéu. Cada item da lista deve ser um nome de cor representando uma única bola dessa cor. Por exemplo, se o seu chapéu for `{\"red\": 2, \"blue\": 1}`, `contents` deveria ser `[\"red\", \"red\", \"blue\"]`.\n",
    "\n",
    "A classe Hat deve ter um método `draw`que aceite um argumento indicando o número de bolas a serem retiradas do chapéu. Este método deve remover bolas aleatoriamente de `contents` e retornar essas bolas como uma lista de strings. As bolas não devem voltar para o chapéu durante o sorteio, semelhante a um experimento de urna sem reposição. Se o número de bolas a serem sorteadas exceder a quantidade disponível, devolva todas as bolas.\n",
    "\n",
    "Em seguida, crie uma experimentfunção em prob_calculator.py(não dentro da Hatclasse). Esta função deve aceitar os seguintes argumentos:\n",
    "\n",
    "hat: Um objeto chapéu contendo bolas que devem ser copiadas dentro da função.\n",
    "expected_balls: Um objeto que indica o grupo exato de bolas para tentar tirar do chapéu para o experimento. Por exemplo, para determinar a probabilidade de retirar 2 bolas azuis e 1 bola vermelha do chapéu, defina expected_ballscomo {\"blue\":2, \"red\":1}.\n",
    "num_balls_drawn: O número de bolas a serem retiradas do chapéu em cada experimento.\n",
    "num_experiments: O número de experimentos a serem executados. (Quanto mais experimentos forem realizados, mais precisa será a probabilidade aproximada.)\n",
    "A experimentfunção deve retornar uma probabilidade.\n",
    "\n",
    "Por exemplo, se você deseja determinar a probabilidade de obter pelo menos duas bolas vermelhas e uma bola verde ao retirar cinco bolas de um chapéu contendo seis pretas, quatro vermelhas e três verdes. Para fazer isso, você realizará Nexperimentos, contará quantas vezes Mobteve pelo menos duas bolas vermelhas e uma bola verde e estimará a probabilidade como M/N. Cada experimento consiste em começar com um chapéu contendo as bolas especificadas, tirar várias bolas e verificar se você conseguiu as bolas que estava tentando tirar.\n",
    "\n",
    "Aqui está como você chamaria a experimentfunção com base no exemplo acima com 2.000 experimentos:\n",
    "\n",
    "hat = Hat(black=6, red=4, green=3)\n",
    "probability = experiment(hat=hat,\n",
    "                  expected_balls={\"red\":2,\"green\":1},\n",
    "                  num_balls_drawn=5,\n",
    "                  num_experiments=2000)\n",
    "Como isso é baseado em sorteios aleatórios, a probabilidade será ligeiramente diferente cada vez que o código for executado.\n",
    "\n",
    "Dica: considere usar os módulos que já foram importados no topo do arquivo prob_calculator.py. Não inicialize a semente aleatória dentro de prob_calculator.py."
   ]
  }
 ],
 "metadata": {
  "kernelspec": {
   "display_name": "Python 3 (ipykernel)",
   "language": "python",
   "name": "python3"
  },
  "language_info": {
   "codemirror_mode": {
    "name": "ipython",
    "version": 3
   },
   "file_extension": ".py",
   "mimetype": "text/x-python",
   "name": "python",
   "nbconvert_exporter": "python",
   "pygments_lexer": "ipython3",
   "version": "3.9.12"
  }
 },
 "nbformat": 4,
 "nbformat_minor": 5
}
