{
 "cells": [
  {
   "cell_type": "markdown",
   "id": "e1e64741",
   "metadata": {},
   "source": [
    "# Aplicativo de Orçamento\n",
    "\n",
    "### Instruções\n",
    "---\n",
    "Conclua a **Category** aula em budget.py. Ele deve ser capaz de instanciar objetos com base em diferentes categorias de orçamento, como _alimentação , vestuário e entretenimento_ . Quando os objetos são criados, eles são passados ​​no nome da categoria. A classe deve ter uma variável de instância chamada **ledger** que é uma lista. A classe também deve conter os seguintes métodos:\n",
    "\n",
    "- Um **deposit** método que aceita um valor e uma descrição. Se nenhuma descrição for fornecida, o padrão deve ser uma string vazia. O método deve anexar um objeto à lista de **ledger** na forma de **{\"amount\": amount, \"description\": description}.**\n",
    "- Um **withdraw** método que é semelhante ao **deposit** método, mas o valor passado deve ser armazenado no razão como um número negativo. Se não houver fundos suficientes, nada deve ser adicionado ao livro razão. Este método deve retornar **True** se a retirada ocorreu e **False** caso contrário.\n",
    "- Um **get_balance** método que retorna o saldo atual da categoria de orçamento com base nos depósitos e saques ocorridos.\n",
    "- Um **transfer** método que aceita um valor e outra categoria de orçamento como argumentos. O método deve adicionar um saque com o valor e a descrição **\"Transfer to \\[Destination Budget Category\\]\"**. O método deve então adicionar um depósito à outra categoria de orçamento com o valor e a descrição \"Transfer from [Source Budget Category]\". Se não houver fundos suficientes, nada deve ser adicionado a nenhum dos livros contábeis. Este método deve retornar **True** se a transferência ocorreu e **False** caso contrário.\n",
    "- Um **check_funds** método que aceita um valor como argumento. Retorna **False** se o valor for maior que o saldo da categoria orçamentária e retorna **True** caso contrário. Este método deve ser usado tanto pelo **withdraw** método quanto pelo **transfer** método.\n",
    "\n",
    "Quando o objeto de orçamento for impresso, ele deve exibir:\n",
    "\n",
    "- Uma linha de título de 30 caracteres onde o nome da categoria é centralizado em uma linha de ***** caracteres.\n",
    "- Uma lista dos itens no razão. Cada linha deve mostrar a descrição e o valor. Os primeiros 23 caracteres da descrição devem ser exibidos e, em seguida, o valor. A quantidade deve estar alinhada à direita, conter duas casas decimais e exibir no máximo 7 caracteres.\n",
    "- Uma linha exibindo o total da categoria.\n",
    "\n",
    "Aqui está um exemplo da saída:\n",
    "~~~\n",
    "*************Food*************\n",
    "initial deposit        1000.00\n",
    "groceries               -10.15\n",
    "restaurant and more foo -15.89\n",
    "Transfer to Clothing    -50.00\n",
    "Total: 923.96\n",
    "~~~\n",
    "    \n",
    "Além da **Category** classe, crie uma função (fora da classe) chamada **create_spend_chart** que receba uma lista de categorias como argumento. Ele deve retornar uma string que é um gráfico de barras.\n",
    "\n",
    "O gráfico deve mostrar o percentual gasto em cada categoria repassado para a função. A porcentagem gasta deve ser calculada apenas com saques e não com depósitos. No lado esquerdo do gráfico, devem estar os rótulos de 0 a 100. As \"barras\" no gráfico de barras devem ser feitas com o caractere \"o\". A altura de cada barra deve ser arredondada para o 10 mais próximo. A linha horizontal abaixo das barras deve passar dois espaços após a barra final. Cada nome de categoria deve ser escrito verticalmente abaixo da barra. Deve haver um título no topo que diga \"Percentage spent by category\".\n",
    "\n",
    "Esta função será testada com até quatro categorias.\n",
    "\n",
    "Observe a saída de exemplo abaixo com atenção e certifique-se de que o espaçamento da saída corresponda exatamente ao exemplo.\n",
    "\n",
    "~~~\n",
    "Percentage spent by category\n",
    "100|          \n",
    " 90|          \n",
    " 80|          \n",
    " 70|          \n",
    " 60| o        \n",
    " 50| o        \n",
    " 40| o        \n",
    " 30| o        \n",
    " 20| o  o     \n",
    " 10| o  o  o  \n",
    "  0| o  o  o  \n",
    "    ----------\n",
    "     F  C  A  \n",
    "     o  l  u  \n",
    "     o  o  t  \n",
    "     d  t  o  \n",
    "        h     \n",
    "        i     \n",
    "        n     \n",
    "        g\n",
    "~~~"
   ]
  },
  {
   "cell_type": "code",
   "execution_count": 1,
   "id": "4b148062",
   "metadata": {},
   "outputs": [
    {
     "data": {
      "text/plain": [
       "'Percentage spent by category\\n100|          \\n 90|          \\n 80|          \\n 70|    o     \\n 60|    o     \\n 50|    o     \\n 40|    o     \\n 30|    o     \\n 20|    o  o  \\n 10|    o  o  \\n  0| o  o  o  \\n    ----------\\n     B  F  E  \\n     u  o  n  \\n     s  o  t  \\n     i  d  e  \\n     n     r  \\n     e     t  \\n     s     a  \\n     s     i  \\n           n  \\n           m  \\n           e  \\n           n  \\n           t  '"
      ]
     },
     "execution_count": 1,
     "metadata": {},
     "output_type": "execute_result"
    }
   ],
   "source": [
    "\"Percentage spent by category\\n100|          \\n 90|          \\n 80|          \\n 70|    o     \\n 60|    o     \\n 50|    o     \\n 40|    o     \\n 30|    o     \\n 20|    o  o  \\n 10|    o  o  \\n  0| o  o  o  \\n    ----------\\n     B  F  E  \\n     u  o  n  \\n     s  o  t  \\n     i  d  e  \\n     n     r  \\n     e     t  \\n     s     a  \\n     s     i  \\n           n  \\n           m  \\n           e  \\n           n  \\n           t  \""
   ]
  },
  {
   "cell_type": "code",
   "execution_count": null,
   "id": "1a244f4e",
   "metadata": {},
   "outputs": [],
   "source": [
    "table = f\"\"\"\\\n",
    "100| {col1[0]}  {col2[0]}  {col3[0]}  {col4[0]}         \n",
    " 90| {col1[1]}  {col2[1]}  {col3[1]}  {col4[1]}         \n",
    " 80| {col1[2]}  {col2[2]}  {col3[2]}  {col4[2]}         \n",
    " 70| {col1[3]}  {col2[3]}  {col3[3]}  {col4[3]}\n",
    " 60| {col1[4]}  {col2[4]}  {col3[4]}  {col4[4]}\n",
    " 50| {col1[5]}  {col2[5]}  {col3[5]}  {col4[5]}\n",
    " 40| {col1[6]}  {col2[6]}  {col3[6]}  {col4[6]}\n",
    " 30| {col1[7]}  {col2[7]}  {col3[7]}  {col4[7]}\n",
    " 20| {col1[8]}  {col2[8]}  {col3[8]}  {col4[8]}\n",
    " 10| {col1[9]}  {col2[9]}  {col3[9]}  {col4[9]}\n",
    "  0| {col1[10]}  {col2[10]}  {col3[10]}  {col4[10]}\n",
    "\"\"\""
   ]
  }
 ],
 "metadata": {
  "kernelspec": {
   "display_name": "Python 3.10.6 64-bit",
   "language": "python",
   "name": "python3"
  },
  "language_info": {
   "codemirror_mode": {
    "name": "ipython",
    "version": 3
   },
   "file_extension": ".py",
   "mimetype": "text/x-python",
   "name": "python",
   "nbconvert_exporter": "python",
   "pygments_lexer": "ipython3",
   "version": "3.10.6"
  },
  "vscode": {
   "interpreter": {
    "hash": "916dbcbb3f70747c44a77c7bcd40155683ae19c65e1c03b4aa3499c5328201f1"
   }
  }
 },
 "nbformat": 4,
 "nbformat_minor": 5
}
