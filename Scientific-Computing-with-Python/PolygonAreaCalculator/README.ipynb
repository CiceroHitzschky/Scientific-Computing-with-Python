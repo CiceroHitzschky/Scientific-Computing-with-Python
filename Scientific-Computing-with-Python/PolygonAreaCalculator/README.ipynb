{
 "cells": [
  {
   "cell_type": "markdown",
   "metadata": {},
   "source": [
    "# Polygon Area Calculator"
   ]
  },
  {
   "cell_type": "markdown",
   "metadata": {},
   "source": [
    "## Instruções\n",
    "---\n",
    "Neste projeto, você usará programação orientada a objetos para criar uma classe Rectangle e uma classe Square. A classe Square deve ser uma subclasse de Rectangle e herdar métodos e atributos.\n",
    "\n",
    "#### classe retângulo\n",
    "\n",
    "Quando um objeto Rectangle é criado, ele deve ser inicializado com os atributos `width` e `height`. A classe também deve conter os seguintes métodos:\n",
    "\n",
    "- `set_width`\n",
    "- `set_height`\n",
    "- `get_area`: Área de retorno ( `width * height`)\n",
    "- `get_perimeter`: Retorna o perímetro ( `2 * width + 2 * height`)\n",
    "- `get_diagonal`: Retorna diagonal ( `(width ** 2 + height ** 2) ** .5)`\n",
    "- `get_picture`: Retorna uma string que representa a forma usando linhas de \"*\". O número de linhas deve ser igual à altura e o número de \"*\" em cada linha deve ser igual à largura. Deve haver uma nova linha (`\\n`) no final de cada linha. Se a largura ou altura for maior que 50, isso deve retornar a string: **\"Too big for picture.\"**\n",
    "- `get_amount_inside`: Toma outra forma (quadrado ou retângulo) como argumento. Retorna o número de vezes que a forma passada poderia caber dentro da forma (sem rotações). Por exemplo, um retângulo com largura 4 e altura 8 caberia em dois quadrados de lado 4.\n",
    "\n",
    "\n",
    "Além disso, se uma instância de Rectangle for representada como uma string, ela deverá se parecer com: `Rectangle(width=5, height=10)`\n",
    "\n",
    "#### classe quadrada\n",
    "\n",
    "A classe Square deve ser uma subclasse de Rectangle. Quando um objeto Square é criado, um único comprimento lateral é passado. O `__init__` método deve armazenar o comprimento lateral nos atributos `width` e `height` da classe Rectangle.\n",
    "\n",
    "A classe Square deve ser capaz de acessar os métodos da classe Rectangle, mas também deve conter um `set_side` método. Se uma instância de um Square for representada como uma string, ela deve se parecer com: `Square(side=9)`\n",
    "\n",
    "Além disso, os métodos `set_width` e `set_height` na classe Square devem definir a largura e a altura.\n",
    "\n",
    "#### Exemplo de uso\n",
    "~~~Python \n",
    "rect = shape_calculator.Rectangle(10, 5)\n",
    "print(rect.get_area())\n",
    "# Return: 50\n",
    "\n",
    "rect.set_height(3)\n",
    "print(rect.get_perimeter())\n",
    "# Return: 26\n",
    "\n",
    "print(rect)\n",
    "# Return: Rectangle(width=10, height=3)\n",
    "\n",
    "print(rect.get_picture())\n",
    "# Return: \n",
    "\n",
    "# **********\n",
    "# **********\n",
    "# **********\n",
    "\n",
    "sq = shape_calculator.Square(9)\n",
    "print(sq.get_area())\n",
    "# Return: 81\n",
    "\n",
    "sq.set_side(4)\n",
    "print(sq.get_diagonal())\n",
    "# Return: 5.656854249492381\n",
    "\n",
    "print(sq)\n",
    "# Return: Square(side=4)\n",
    "\n",
    "print(sq.get_picture())\n",
    "\n",
    "# Return:\n",
    "# ****\n",
    "# ****\n",
    "# ****\n",
    "# ****\n",
    "\n",
    "rect.set_height(8)\n",
    "rect.set_width(16)\n",
    "print(rect.get_amount_inside(sq))\n",
    "# Return: 8"
   ]
  }
 ],
 "metadata": {
  "kernelspec": {
   "display_name": "Python 3.10.6 64-bit",
   "language": "python",
   "name": "python3"
  },
  "language_info": {
   "name": "python",
   "version": "3.10.6"
  },
  "orig_nbformat": 4,
  "vscode": {
   "interpreter": {
    "hash": "916dbcbb3f70747c44a77c7bcd40155683ae19c65e1c03b4aa3499c5328201f1"
   }
  }
 },
 "nbformat": 4,
 "nbformat_minor": 2
}
